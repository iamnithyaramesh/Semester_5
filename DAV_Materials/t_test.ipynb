{
  "cells": [
    {
      "cell_type": "code",
      "execution_count": 1,
      "metadata": {
        "id": "OhWbdzBhRoBS"
      },
      "outputs": [
        {
          "ename": "",
          "evalue": "",
          "output_type": "error",
          "traceback": [
            "\u001b[1;31mThe Kernel crashed while executing code in the current cell or a previous cell. \n",
            "\u001b[1;31mPlease review the code in the cell(s) to identify a possible cause of the failure. \n",
            "\u001b[1;31mClick <a href='https://aka.ms/vscodeJupyterKernelCrash'>here</a> for more info. \n",
            "\u001b[1;31mView Jupyter <a href='command:jupyter.viewOutput'>log</a> for further details."
          ]
        }
      ],
      "source": [
        "import numpy as np\n",
        "from scipy import stats\n",
        "import matplotlib.pyplot as plt\n",
        "from sklearn.model_selection import train_test_split"
      ]
    },
    {
      "cell_type": "code",
      "execution_count": null,
      "metadata": {
        "id": "0n7HZcO4R1zo"
      },
      "outputs": [],
      "source": [
        "from sklearn import datasets\n",
        "iris = datasets.load_iris()\n",
        "sep_length = iris.data[:,0]\n",
        "a_1, a_2 = train_test_split(sep_length, test_size=0.4, random_state=0)\n",
        "b_1, b_2 = train_test_split(sep_length, test_size=0.4, random_state=1)"
      ]
    },
    {
      "cell_type": "code",
      "execution_count": null,
      "metadata": {
        "colab": {
          "base_uri": "https://localhost:8080/"
        },
        "id": "hW26VS5pR9mt",
        "outputId": "41fb515f-c556-4922-b6dd-949d5d8d1da2"
      },
      "outputs": [
        {
          "name": "stdout",
          "output_type": "stream",
          "text": [
            "a_1 mean value is: 5.83888888888889\n",
            "b_1 mean value is: 5.734444444444445\n",
            "a_1 SD is: 0.8848972877552193\n",
            "b_1 SD is: 0.7912242428472069\n",
            "0.7830432098765433\n",
            "0.6260358024691359\n"
          ]
        }
      ],
      "source": [
        "mu1 = np.mean(a_1)\n",
        "print(\"a_1 mean value is:\",mu1)\n",
        "mu2 = np.mean(b_1)\n",
        "print(\"b_1 mean value is:\",mu2)\n",
        "std_a_1=np.std(a_1)\n",
        "print(\"a_1 SD is:\",std_a_1)\n",
        "std_b_1=np.std(b_1)\n",
        "print(\"b_1 SD is:\",std_b_1)\n",
        "var_a_1=np.var(a_1)\n",
        "print(var_a_1)\n",
        "var_b_1=np.var(b_1)\n",
        "print(var_b_1)"
      ]
    },
    {
      "cell_type": "code",
      "execution_count": null,
      "metadata": {
        "colab": {
          "base_uri": "https://localhost:8080/"
        },
        "id": "ccAHCaeJSCUX",
        "outputId": "d0872e53-12fb-47a9-d6d6-2ba263ee44ba"
      },
      "outputs": [
        {
          "data": {
            "text/plain": [
              "TtestResult(statistic=0.830066093774641, pvalue=0.4076270841218669, df=175.8171155714046)"
            ]
          },
          "execution_count": 17,
          "metadata": {},
          "output_type": "execute_result"
        }
      ],
      "source": [
        "stats.ttest_ind(a_1, b_1, equal_var = False)"
      ]
    },
    {
      "cell_type": "code",
      "execution_count": null,
      "metadata": {
        "colab": {
          "base_uri": "https://localhost:8080/"
        },
        "id": "ztUX4lEpSJav",
        "outputId": "2215ce09-b31e-40df-bad2-d659d233d2c6"
      },
      "outputs": [
        {
          "data": {
            "text/plain": [
              "TtestResult(statistic=-0.830066093774641, pvalue=0.4076270841218669, df=175.8171155714046)"
            ]
          },
          "execution_count": 18,
          "metadata": {},
          "output_type": "execute_result"
        }
      ],
      "source": [
        "stats.ttest_ind(b_1, a_1, equal_var=False)"
      ]
    },
    {
      "cell_type": "code",
      "execution_count": null,
      "metadata": {
        "colab": {
          "base_uri": "https://localhost:8080/"
        },
        "id": "FHUocfSmSLVF",
        "outputId": "f12a6a14-bd14-4477-8d22-de15860c2b18"
      },
      "outputs": [
        {
          "data": {
            "text/plain": [
              "TtestResult(statistic=0.830066093774641, pvalue=0.4076132965045395, df=178.0)"
            ]
          },
          "execution_count": 19,
          "metadata": {},
          "output_type": "execute_result"
        }
      ],
      "source": [
        "stats.ttest_ind(a_1, b_1, equal_var=True)"
      ]
    },
    {
      "cell_type": "code",
      "execution_count": null,
      "metadata": {
        "colab": {
          "base_uri": "https://localhost:8080/"
        },
        "id": "fFykBulgcvqt",
        "outputId": "d0f2f5f0-9735-4b0c-90e3-63db5c19e1fa"
      },
      "outputs": [
        {
          "data": {
            "text/plain": [
              "TtestResult(statistic=-1.0774324917953297, pvalue=0.28353629336648595, df=115.29368874180955)"
            ]
          },
          "execution_count": 20,
          "metadata": {},
          "output_type": "execute_result"
        }
      ],
      "source": [
        "stats.ttest_ind(a_2, b_2, equal_var = False)"
      ]
    },
    {
      "cell_type": "code",
      "execution_count": null,
      "metadata": {
        "colab": {
          "base_uri": "https://localhost:8080/"
        },
        "id": "q3IonqWGc4RT",
        "outputId": "e14efdc5-15a2-4df4-eb20-0170a50803b9"
      },
      "outputs": [
        {
          "data": {
            "text/plain": [
              "TtestResult(statistic=1.0774324917953297, pvalue=0.28353629336648595, df=115.29368874180955)"
            ]
          },
          "execution_count": 21,
          "metadata": {},
          "output_type": "execute_result"
        }
      ],
      "source": [
        "stats.ttest_ind(b_2, a_2, equal_var = False)"
      ]
    },
    {
      "cell_type": "code",
      "execution_count": null,
      "metadata": {
        "colab": {
          "base_uri": "https://localhost:8080/"
        },
        "id": "F0IVS7i8c9j8",
        "outputId": "c395f5fd-f30f-4536-bdb9-a7dcd923f8e9"
      },
      "outputs": [
        {
          "data": {
            "text/plain": [
              "TtestResult(statistic=-1.0774324917953297, pvalue=0.283484823019707, df=118.0)"
            ]
          },
          "execution_count": 22,
          "metadata": {},
          "output_type": "execute_result"
        }
      ],
      "source": [
        "stats.ttest_ind(a_2, b_2, equal_var = True)"
      ]
    },
    {
      "cell_type": "code",
      "execution_count": null,
      "metadata": {
        "colab": {
          "base_uri": "https://localhost:8080/"
        },
        "id": "H1lIqayNBpzj",
        "outputId": "3da1c28d-d252-4bdc-d26c-477f456023c5"
      },
      "outputs": [
        {
          "data": {
            "text/plain": [
              "(0.830066093774641, 0.4065014159903496)"
            ]
          },
          "execution_count": 23,
          "metadata": {},
          "output_type": "execute_result"
        }
      ],
      "source": [
        "from statsmodels.stats.weightstats import ztest as ztest\n",
        "ztest(a_1,b_1,value=0)"
      ]
    }
  ],
  "metadata": {
    "colab": {
      "provenance": []
    },
    "kernelspec": {
      "display_name": "Python 3",
      "name": "python3"
    },
    "language_info": {
      "codemirror_mode": {
        "name": "ipython",
        "version": 3
      },
      "file_extension": ".py",
      "mimetype": "text/x-python",
      "name": "python",
      "nbconvert_exporter": "python",
      "pygments_lexer": "ipython3",
      "version": "3.12.1"
    }
  },
  "nbformat": 4,
  "nbformat_minor": 0
}
